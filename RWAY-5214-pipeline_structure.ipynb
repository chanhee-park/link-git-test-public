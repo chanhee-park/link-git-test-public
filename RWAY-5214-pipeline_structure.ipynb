{
 "cells": [
  {
   "cell_type": "code",
   "execution_count": null,
   "metadata": {
    "canvas": {
     "comments": [],
     "componentType": "CodeCell",
     "copiedOriginId": null,
     "diskcache": false,
     "headerColor": "transparent",
     "id": "12f8c47b-c2ac-4b58-b06b-f188c82fe307",
     "isComponent": false,
     "name": "",
     "parents": []
    }
   },
   "outputs": [],
   "source": [
    "# !pip install notion-client\n",
    "# !pip install --upgrade google-api-python-client google-auth-httplib2 google-auth-oauthlib"
   ]
  },
  {
   "cell_type": "code",
   "execution_count": null,
   "metadata": {
    "canvas": {
     "comments": [],
     "componentType": "CodeCell",
     "copiedOriginId": null,
     "diskcache": false,
     "headerColor": "#00DE62",
     "id": "8d181b37-b91b-4119-ba78-f3aff0950b2c",
     "isComponent": true,
     "name": "Get Token",
     "parents": []
    },
    "tags": []
   },
   "outputs": [],
   "source": []
  },
  {
   "cell_type": "code",
   "execution_count": null,
   "metadata": {
    "canvas": {
     "comments": [],
     "componentType": "CodeCell",
     "copiedOriginId": null,
     "diskcache": false,
     "headerColor": "#00DE62",
     "id": "665c17cb-3cd2-4d77-b884-e71991f4f57c",
     "isComponent": true,
     "name": "Define Dataset",
     "parents": [
      {
       "id": "8d181b37-b91b-4119-ba78-f3aff0950b2c",
       "name": "Get Token"
      }
     ]
    },
    "tags": []
   },
   "outputs": [],
   "source": []
  },
  {
   "cell_type": "code",
   "execution_count": null,
   "metadata": {
    "canvas": {
     "comments": [],
     "componentType": "CodeCell",
     "copiedOriginId": null,
     "diskcache": false,
     "headerColor": "#00DE62",
     "id": "061d397f-cf27-4c13-99be-747c7bc11b15",
     "isComponent": true,
     "name": "Load Project Table",
     "parents": [
      {
       "id": "665c17cb-3cd2-4d77-b884-e71991f4f57c",
       "name": "Define Dataset"
      }
     ]
    },
    "tags": []
   },
   "outputs": [],
   "source": []
  },
  {
   "cell_type": "code",
   "execution_count": null,
   "metadata": {
    "canvas": {
     "comments": [],
     "componentType": "CodeCell",
     "copiedOriginId": null,
     "diskcache": false,
     "headerColor": "#FAFF00",
     "id": "d8fce27b-cb9f-4893-b794-77d95dc1c286",
     "isComponent": true,
     "name": "Create Project Info Dict",
     "parents": [
      {
       "id": "061d397f-cf27-4c13-99be-747c7bc11b15",
       "name": "Load Project Table"
      }
     ]
    },
    "tags": []
   },
   "outputs": [],
   "source": []
  },
  {
   "cell_type": "code",
   "execution_count": null,
   "metadata": {
    "canvas": {
     "comments": [],
     "componentType": "CodeCell",
     "copiedOriginId": null,
     "diskcache": false,
     "headerColor": "#00DE62",
     "id": "b7a53254-7a41-467c-89f3-88a59de80a42",
     "isComponent": true,
     "name": "Load Member Table",
     "parents": [
      {
       "id": "665c17cb-3cd2-4d77-b884-e71991f4f57c",
       "name": "Define Dataset"
      }
     ]
    },
    "tags": []
   },
   "outputs": [],
   "source": []
  },
  {
   "cell_type": "code",
   "execution_count": null,
   "metadata": {
    "canvas": {
     "comments": [],
     "componentType": "CodeCell",
     "copiedOriginId": null,
     "diskcache": false,
     "headerColor": "#00DE62",
     "id": "1105ff02-71b7-4dec-82ea-3b5d539f807a",
     "isComponent": true,
     "name": "Load Staffing Table",
     "parents": [
      {
       "id": "665c17cb-3cd2-4d77-b884-e71991f4f57c",
       "name": "Define Dataset"
      }
     ]
    },
    "tags": []
   },
   "outputs": [],
   "source": []
  },
  {
   "cell_type": "code",
   "execution_count": null,
   "metadata": {
    "canvas": {
     "comments": [],
     "componentType": "CodeCell",
     "copiedOriginId": null,
     "diskcache": false,
     "headerColor": "#FAFF00",
     "id": "7da4dc76-4e74-4456-8906-54173e5b0954",
     "isComponent": true,
     "name": "Create Project Part Dict",
     "parents": [
      {
       "id": "1105ff02-71b7-4dec-82ea-3b5d539f807a",
       "name": "Load Staffing Table"
      }
     ]
    },
    "tags": []
   },
   "outputs": [],
   "source": []
  },
  {
   "cell_type": "code",
   "execution_count": null,
   "metadata": {
    "canvas": {
     "comments": [],
     "componentType": "CodeCell",
     "copiedOriginId": null,
     "diskcache": false,
     "headerColor": "#FAFF00",
     "id": "911d6140-5495-4151-8aae-060d398f6a0f",
     "isComponent": true,
     "name": "Create Project Doc Dict",
     "parents": []
    },
    "tags": []
   },
   "outputs": [],
   "source": []
  },
  {
   "cell_type": "code",
   "execution_count": null,
   "metadata": {
    "canvas": {
     "comments": [],
     "componentType": "CodeCell",
     "copiedOriginId": null,
     "diskcache": false,
     "headerColor": "transparent",
     "id": "5e1c755f-78cf-4455-ac16-b2c100efab6d",
     "isComponent": true,
     "name": "Put Part and Doc to PJT DB",
     "parents": [
      {
       "id": "d8fce27b-cb9f-4893-b794-77d95dc1c286",
       "name": "Create Project Info Dict"
      },
      {
       "id": "7da4dc76-4e74-4456-8906-54173e5b0954",
       "name": "Create Project Part Dict"
      },
      {
       "id": "911d6140-5495-4151-8aae-060d398f6a0f",
       "name": "Create Project Doc Dict"
      }
     ]
    },
    "tags": []
   },
   "outputs": [],
   "source": []
  },
  {
   "cell_type": "code",
   "execution_count": null,
   "metadata": {
    "canvas": {
     "comments": [],
     "componentType": "CodeCell",
     "copiedOriginId": null,
     "diskcache": false,
     "headerColor": "transparent",
     "id": "1a5138e1-d86a-45fc-9add-1e3e83caf9e8",
     "isComponent": true,
     "name": "Make Notion DB Items",
     "parents": [
      {
       "id": "5e1c755f-78cf-4455-ac16-b2c100efab6d",
       "name": "Put Part and Doc to PJT DB"
      }
     ]
    },
    "tags": []
   },
   "outputs": [],
   "source": []
  },
  {
   "cell_type": "code",
   "execution_count": null,
   "metadata": {
    "canvas": {
     "comments": [],
     "componentType": "CodeCell",
     "copiedOriginId": null,
     "diskcache": false,
     "headerColor": "transparent",
     "id": "50b99bac-fab6-48c0-8db6-761b5a76de20",
     "isComponent": true,
     "name": "Reset Project DB",
     "parents": [
      {
       "id": "1a5138e1-d86a-45fc-9add-1e3e83caf9e8",
       "name": "Make Notion DB Items"
      }
     ]
    },
    "tags": []
   },
   "outputs": [],
   "source": []
  },
  {
   "cell_type": "code",
   "execution_count": null,
   "metadata": {
    "canvas": {
     "comments": [],
     "componentType": "CodeCell",
     "copiedOriginId": null,
     "diskcache": false,
     "headerColor": "transparent",
     "id": "60a70792-d887-4d38-bb3f-94f776099b7e",
     "isComponent": true,
     "name": "Update Project DB",
     "parents": [
      {
       "id": "50b99bac-fab6-48c0-8db6-761b5a76de20",
       "name": "Reset Project DB"
      }
     ]
    },
    "tags": []
   },
   "outputs": [
    {
     "name": "stdout",
     "output_type": "stream",
     "text": [
      "Update Project DB 2023-12-18 16:37:45.315794\n"
     ]
    }
   ],
   "source": [
    "import datetime\n",
    "print(\"Update Project DB\", datetime.datetime.now())"
   ]
  },
  {
   "cell_type": "code",
   "execution_count": null,
   "metadata": {
    "canvas": {
     "comments": [],
     "componentType": "CodeCell",
     "copiedOriginId": null,
     "diskcache": false,
     "headerColor": "#FF00C3",
     "id": "82fa9f44-4d27-41d2-b416-7bbf97fc2d20",
     "isComponent": true,
     "name": "Calc Launching Projects",
     "parents": [
      {
       "id": "061d397f-cf27-4c13-99be-747c7bc11b15",
       "name": "Load Project Table"
      },
      {
       "id": "1105ff02-71b7-4dec-82ea-3b5d539f807a",
       "name": "Load Staffing Table"
      }
     ]
    },
    "tags": []
   },
   "outputs": [],
   "source": []
  },
  {
   "cell_type": "code",
   "execution_count": null,
   "metadata": {
    "canvas": {
     "comments": [],
     "componentType": "CodeCell",
     "copiedOriginId": null,
     "diskcache": false,
     "headerColor": "#FF00C3",
     "id": "0c971ff1-707e-442c-bb67-e961c8183647",
     "isComponent": true,
     "name": "Viz Launching Projects",
     "parents": [
      {
       "id": "82fa9f44-4d27-41d2-b416-7bbf97fc2d20",
       "name": "Calc Launching Projects"
      }
     ]
    },
    "tags": []
   },
   "outputs": [],
   "source": []
  },
  {
   "cell_type": "code",
   "execution_count": null,
   "metadata": {
    "canvas": {
     "comments": [],
     "componentType": "CodeCell",
     "copiedOriginId": null,
     "diskcache": false,
     "headerColor": "#FF00C3",
     "id": "cd3942d7-a545-44e2-a0c6-ce90cfd88ae7",
     "isComponent": true,
     "name": "Calc Completed Projects",
     "parents": [
      {
       "id": "061d397f-cf27-4c13-99be-747c7bc11b15",
       "name": "Load Project Table"
      },
      {
       "id": "1105ff02-71b7-4dec-82ea-3b5d539f807a",
       "name": "Load Staffing Table"
      }
     ]
    },
    "tags": []
   },
   "outputs": [],
   "source": []
  },
  {
   "cell_type": "code",
   "execution_count": null,
   "metadata": {
    "canvas": {
     "comments": [],
     "componentType": "CodeCell",
     "copiedOriginId": null,
     "diskcache": false,
     "headerColor": "#FF00C3",
     "id": "9e165ce7-f8e6-49d0-ab17-1acbecfc1376",
     "isComponent": true,
     "name": "Viz Completed Projects",
     "parents": [
      {
       "id": "cd3942d7-a545-44e2-a0c6-ce90cfd88ae7",
       "name": "Calc Completed Projects"
      }
     ]
    },
    "tags": []
   },
   "outputs": [],
   "source": []
  },
  {
   "cell_type": "code",
   "execution_count": null,
   "metadata": {
    "canvas": {
     "comments": [],
     "componentType": "CodeCell",
     "copiedOriginId": null,
     "diskcache": false,
     "headerColor": "#FF00C3",
     "id": "ca9a3ef5-9f99-40df-8ab7-4d5783a6455e",
     "isComponent": true,
     "name": "Viz Launching Completed PJTs",
     "parents": [
      {
       "id": "82fa9f44-4d27-41d2-b416-7bbf97fc2d20",
       "name": "Calc Launching Projects"
      },
      {
       "id": "cd3942d7-a545-44e2-a0c6-ce90cfd88ae7",
       "name": "Calc Completed Projects"
      }
     ]
    },
    "tags": []
   },
   "outputs": [],
   "source": []
  },
  {
   "cell_type": "code",
   "execution_count": null,
   "metadata": {
    "canvas": {
     "comments": [],
     "componentType": "CodeCell",
     "copiedOriginId": null,
     "diskcache": false,
     "headerColor": "#FF00C3",
     "id": "7f4bdfed-bedf-4e5d-9b0e-24e7cb96ec50",
     "isComponent": true,
     "name": "Calc Period Util Status",
     "parents": [
      {
       "id": "1105ff02-71b7-4dec-82ea-3b5d539f807a",
       "name": "Load Staffing Table"
      },
      {
       "id": "b7a53254-7a41-467c-89f3-88a59de80a42",
       "name": "Load Member Table"
      },
      {
       "id": "061d397f-cf27-4c13-99be-747c7bc11b15",
       "name": "Load Project Table"
      }
     ]
    },
    "tags": []
   },
   "outputs": [],
   "source": []
  },
  {
   "cell_type": "code",
   "execution_count": null,
   "metadata": {
    "canvas": {
     "comments": [],
     "componentType": "CodeCell",
     "copiedOriginId": null,
     "diskcache": false,
     "headerColor": "#FF00C3",
     "id": "402ed308-fb69-4451-b18d-f5df617c9785",
     "isComponent": true,
     "name": "Viz Period Util Status",
     "parents": [
      {
       "id": "7f4bdfed-bedf-4e5d-9b0e-24e7cb96ec50",
       "name": "Calc Period Util Status"
      }
     ]
    },
    "tags": []
   },
   "outputs": [],
   "source": []
  },
  {
   "cell_type": "code",
   "execution_count": null,
   "metadata": {
    "canvas": {
     "comments": [],
     "componentType": "CodeCell",
     "copiedOriginId": null,
     "diskcache": false,
     "headerColor": "#FF00C3",
     "id": "25596bbf-c1df-46b5-97b7-a566e4a43c93",
     "isComponent": true,
     "name": "Calc Point Util Status",
     "parents": [
      {
       "id": "b7a53254-7a41-467c-89f3-88a59de80a42",
       "name": "Load Member Table"
      },
      {
       "id": "1105ff02-71b7-4dec-82ea-3b5d539f807a",
       "name": "Load Staffing Table"
      }
     ]
    },
    "tags": []
   },
   "outputs": [],
   "source": []
  },
  {
   "cell_type": "code",
   "execution_count": null,
   "metadata": {
    "canvas": {
     "comments": [],
     "componentType": "CodeCell",
     "copiedOriginId": null,
     "diskcache": false,
     "headerColor": "transparent",
     "id": "a10a2d66-31c1-4a33-9f5c-ab4621c99a40",
     "isComponent": true,
     "name": "Viz Point Util Statusa",
     "parents": [
      {
       "id": "25596bbf-c1df-46b5-97b7-a566e4a43c93",
       "name": "Calc Point Util Status"
      }
     ]
    },
    "tags": []
   },
   "outputs": [],
   "source": []
  },
  {
   "cell_type": "code",
   "execution_count": null,
   "metadata": {
    "canvas": {
     "comments": [],
     "componentType": "CodeCell",
     "copiedOriginId": null,
     "diskcache": false,
     "headerColor": "transparent",
     "id": "4355d4b6-462e-4536-80a7-97a1a5ed0c2d",
     "isComponent": false,
     "name": "",
     "parents": []
    }
   },
   "outputs": [],
   "source": []
  },
  {
   "cell_type": "code",
   "execution_count": null,
   "metadata": {
    "canvas": {
     "comments": [],
     "componentType": "CodeCell",
     "copiedOriginId": null,
     "diskcache": false,
     "headerColor": "transparent",
     "id": "67fbd1d1-bb0d-47ba-a9a9-649ddeafb213",
     "isComponent": false,
     "name": "",
     "parents": []
    }
   },
   "outputs": [],
   "source": []
  }
 ],
 "metadata": {
  "canvas": {
   "colorPalette": [
    "inherit",
    "inherit",
    "inherit",
    "inherit",
    "inherit",
    "inherit",
    "inherit",
    "inherit",
    "inherit",
    "inherit"
   ],
   "parameters": [
    {
     "name": "NOTION_TOKEN",
     "type": "str",
     "value": "\"secret_XMqM1JwV7DBVkYDZqgXClBxboMjXoZUKLbc6j0Mc2ET\""
    },
    {
     "name": "PROJECT_DB_ID",
     "type": "str",
     "value": "\"adbc76ac5e7f42259621c9d97e2d0e85\""
    },
    {
     "name": "PROJECT_DOC_DB_ID",
     "type": "str",
     "value": "\"d1a2be23184349249e38505bdf0d5bc0\""
    }
   ],
   "version": "1.0"
  },
  "kernelspec": {
   "display_name": "Python 3 (ipykernel)",
   "language": "python",
   "name": "python3"
  },
  "language_info": {
   "codemirror_mode": {
    "name": "ipython",
    "version": 3
   },
   "file_extension": ".py",
   "mimetype": "text/x-python",
   "name": "python",
   "nbconvert_exporter": "python",
   "pygments_lexer": "ipython3",
   "version": "3.10.11"
  }
 },
 "nbformat": 4,
 "nbformat_minor": 4
}
