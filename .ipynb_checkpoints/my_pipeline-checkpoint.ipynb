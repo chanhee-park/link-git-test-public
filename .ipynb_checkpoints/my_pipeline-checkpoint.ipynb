{
 "cells": [
  {
   "cell_type": "code",
   "execution_count": null,
   "id": "e1366869-5126-495d-948c-9fcc08106e66",
   "metadata": {
    "canvas": {
     "comments": [],
     "componentType": "CodeCell",
     "copiedOriginId": null,
     "diskcache": false,
     "headerColor": "transparent",
     "id": "df806955-7e24-4d54-83e8-61b8f9311c7f",
     "isComponent": true,
     "name": "a",
     "parents": []
    },
    "tags": []
   },
   "outputs": [],
   "source": [
    "a = 1"
   ]
  },
  {
   "cell_type": "code",
   "execution_count": null,
   "id": "a811f357-991b-4e91-bac0-8f2d87ff3965",
   "metadata": {
    "canvas": {
     "comments": [],
     "componentType": "CodeCell",
     "copiedOriginId": null,
     "diskcache": false,
     "headerColor": "transparent",
     "id": "ea810552-db79-4427-87dc-ca318b33c7ba",
     "isComponent": true,
     "name": "b",
     "parents": []
    },
    "tags": []
   },
   "outputs": [],
   "source": [
    "b = 2"
   ]
  },
  {
   "cell_type": "code",
   "execution_count": null,
   "id": "d9b05f3d-bddc-42f8-9a41-fc30df5d8d8c",
   "metadata": {
    "canvas": {
     "comments": [],
     "componentType": "CodeCell",
     "copiedOriginId": null,
     "diskcache": false,
     "headerColor": "transparent",
     "id": "e7eb3606-bdff-484e-a0e4-1093ed88052f",
     "isComponent": true,
     "name": "c",
     "parents": [
      {
       "id": "df806955-7e24-4d54-83e8-61b8f9311c7f",
       "name": "a"
      },
      {
       "id": "ea810552-db79-4427-87dc-ca318b33c7ba",
       "name": "b"
      }
     ]
    },
    "tags": []
   },
   "outputs": [],
   "source": [
    "c = a + b"
   ]
  },
  {
   "cell_type": "code",
   "execution_count": null,
   "id": "76c8d85c-df04-4f39-a3c0-005ed6b404b2",
   "metadata": {
    "canvas": {
     "comments": [],
     "componentType": "CodeCell",
     "copiedOriginId": null,
     "diskcache": false,
     "headerColor": "transparent",
     "id": "e061d17c-5948-4a23-8d5f-83434c58dbbf",
     "isComponent": true,
     "name": "d",
     "parents": [
      {
       "id": "e7eb3606-bdff-484e-a0e4-1093ed88052f",
       "name": "c"
      }
     ]
    },
    "tags": []
   },
   "outputs": [
    {
     "name": "stdout",
     "output_type": "stream",
     "text": [
      "1 + 2 = 3\n"
     ]
    }
   ],
   "source": [
    "print(a, '+', b, '=', c)"
   ]
  },
  {
   "cell_type": "code",
   "execution_count": null,
   "id": "2363f572-1799-48d0-86ef-8d5850d5902c",
   "metadata": {
    "canvas": {
     "comments": [],
     "componentType": "CodeCell",
     "copiedOriginId": null,
     "diskcache": false,
     "headerColor": "transparent",
     "id": "69f17006-e40a-441a-81c2-ad24be71341e",
     "isComponent": true,
     "name": "e",
     "parents": [
      {
       "id": "e061d17c-5948-4a23-8d5f-83434c58dbbf",
       "name": "d"
      }
     ]
    },
    "tags": []
   },
   "outputs": [
    {
     "name": "stdout",
     "output_type": "stream",
     "text": [
      "endQ!\n"
     ]
    }
   ],
   "source": [
    "print(\"endQ!\")"
   ]
  }
 ],
 "metadata": {
  "canvas": {
   "colorPalette": [
    "inherit",
    "inherit",
    "inherit",
    "inherit",
    "inherit",
    "inherit",
    "inherit",
    "inherit",
    "inherit",
    "inherit"
   ],
   "parameters": [],
   "version": "1.0"
  },
  "kernelspec": {
   "display_name": "Python 3 (ipykernel)",
   "language": "python",
   "name": "python3"
  },
  "language_info": {
   "codemirror_mode": {
    "name": "ipython",
    "version": 3
   },
   "file_extension": ".py",
   "mimetype": "text/x-python",
   "name": "python",
   "nbconvert_exporter": "python",
   "pygments_lexer": "ipython3",
   "version": "3.8.10"
  }
 },
 "nbformat": 4,
 "nbformat_minor": 5
}
