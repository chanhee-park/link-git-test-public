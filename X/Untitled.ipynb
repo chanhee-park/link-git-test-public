{
 "cells": [
  {
   "cell_type": "code",
   "execution_count": null,
   "id": "a0fbd7a0-afa8-41ab-970c-579294a9c559",
   "metadata": {
    "canvas": {
     "comments": [],
     "componentType": "CodeCell",
     "copiedOriginId": null,
     "diskcache": false,
     "headerColor": "transparent",
     "id": "996a6272-fad8-45d5-bb51-682a2a244b3a",
     "isComponent": true,
     "name": "a",
     "parents": []
    },
    "tags": []
   },
   "outputs": [
    {
     "data": {
      "text/plain": [
       "1"
      ]
     },
     "execution_count": 0,
     "metadata": {
      "component_id": "996a6272-fad8-45d5-bb51-682a2a244b3a"
     },
     "output_type": "execute_result"
    },
    {
     "data": {},
     "execution_count": 0,
     "metadata": {
      "component_id": "996a6272-fad8-45d5-bb51-682a2a244b3a"
     },
     "output_type": "execute_result"
    }
   ],
   "source": [
    "a=1\n",
    "a"
   ]
  }
 ],
 "metadata": {
  "canvas": {
   "colorPalette": [
    "inherit",
    "inherit",
    "inherit",
    "inherit",
    "inherit",
    "inherit",
    "inherit",
    "inherit",
    "inherit",
    "inherit"
   ],
   "parameters": []
  },
  "kernelspec": {
   "display_name": "Python 3 (ipykernel)",
   "language": "python",
   "name": "python3"
  },
  "language_info": {
   "codemirror_mode": {
    "name": "ipython",
    "version": 3
   },
   "file_extension": ".py",
   "mimetype": "text/x-python",
   "name": "python",
   "nbconvert_exporter": "python",
   "pygments_lexer": "ipython3",
   "version": "3.8.10"
  }
 },
 "nbformat": 4,
 "nbformat_minor": 5
}
